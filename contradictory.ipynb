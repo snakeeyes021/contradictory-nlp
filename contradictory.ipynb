{
 "cells": [
  {
   "cell_type": "code",
   "execution_count": 34,
   "metadata": {
    "execution": {
     "iopub.execute_input": "2022-04-11T05:18:43.455145Z",
     "iopub.status.busy": "2022-04-11T05:18:43.454519Z",
     "iopub.status.idle": "2022-04-11T05:18:43.471682Z",
     "shell.execute_reply": "2022-04-11T05:18:43.469909Z",
     "shell.execute_reply.started": "2022-04-11T05:18:43.455076Z"
    }
   },
   "outputs": [],
   "source": [
    "import pandas as pd\n",
    "import numpy as np\n",
    "from matplotlib import pyplot as plt\n",
    "import seaborn as sns\n",
    "\n",
    "from sklearn.model_selection import train_test_split\n",
    "\n",
    "%matplotlib inline\n",
    "\n",
    "random_state = 41122"
   ]
  },
  {
   "cell_type": "code",
   "execution_count": 35,
   "metadata": {
    "execution": {
     "iopub.execute_input": "2022-04-11T05:18:45.372750Z",
     "iopub.status.busy": "2022-04-11T05:18:45.371842Z",
     "iopub.status.idle": "2022-04-11T05:18:45.510632Z",
     "shell.execute_reply": "2022-04-11T05:18:45.509405Z",
     "shell.execute_reply.started": "2022-04-11T05:18:45.372687Z"
    }
   },
   "outputs": [
    {
     "data": {
      "text/html": [
       "<div>\n",
       "<style scoped>\n",
       "    .dataframe tbody tr th:only-of-type {\n",
       "        vertical-align: middle;\n",
       "    }\n",
       "\n",
       "    .dataframe tbody tr th {\n",
       "        vertical-align: top;\n",
       "    }\n",
       "\n",
       "    .dataframe thead th {\n",
       "        text-align: right;\n",
       "    }\n",
       "</style>\n",
       "<table border=\"1\" class=\"dataframe\">\n",
       "  <thead>\n",
       "    <tr style=\"text-align: right;\">\n",
       "      <th></th>\n",
       "      <th>premise</th>\n",
       "      <th>hypothesis</th>\n",
       "      <th>lang_abv</th>\n",
       "      <th>language</th>\n",
       "      <th>label</th>\n",
       "    </tr>\n",
       "    <tr>\n",
       "      <th>id</th>\n",
       "      <th></th>\n",
       "      <th></th>\n",
       "      <th></th>\n",
       "      <th></th>\n",
       "      <th></th>\n",
       "    </tr>\n",
       "  </thead>\n",
       "  <tbody>\n",
       "    <tr>\n",
       "      <th>5130fd2cb5</th>\n",
       "      <td>and these comments were considered in formulat...</td>\n",
       "      <td>The rules developed in the interim were put to...</td>\n",
       "      <td>en</td>\n",
       "      <td>English</td>\n",
       "      <td>0</td>\n",
       "    </tr>\n",
       "    <tr>\n",
       "      <th>5b72532a0b</th>\n",
       "      <td>These are issues that we wrestle with in pract...</td>\n",
       "      <td>Practice groups are not permitted to work on t...</td>\n",
       "      <td>en</td>\n",
       "      <td>English</td>\n",
       "      <td>2</td>\n",
       "    </tr>\n",
       "    <tr>\n",
       "      <th>3931fbe82a</th>\n",
       "      <td>Des petites choses comme celles-là font une di...</td>\n",
       "      <td>J'essayais d'accomplir quelque chose.</td>\n",
       "      <td>fr</td>\n",
       "      <td>French</td>\n",
       "      <td>0</td>\n",
       "    </tr>\n",
       "    <tr>\n",
       "      <th>5622f0c60b</th>\n",
       "      <td>you know they can't really defend themselves l...</td>\n",
       "      <td>They can't defend themselves because of their ...</td>\n",
       "      <td>en</td>\n",
       "      <td>English</td>\n",
       "      <td>0</td>\n",
       "    </tr>\n",
       "    <tr>\n",
       "      <th>86aaa48b45</th>\n",
       "      <td>ในการเล่นบทบาทสมมุติก็เช่นกัน โอกาสที่จะได้แสด...</td>\n",
       "      <td>เด็กสามารถเห็นได้ว่าชาติพันธุ์แตกต่างกันอย่างไร</td>\n",
       "      <td>th</td>\n",
       "      <td>Thai</td>\n",
       "      <td>1</td>\n",
       "    </tr>\n",
       "    <tr>\n",
       "      <th>ed7d6a1e62</th>\n",
       "      <td>Bir çiftlikte birisinin, ağıla kapatılmış bu ö...</td>\n",
       "      <td>Çiftlikte insanlar farklı terimler kullanırlar.</td>\n",
       "      <td>tr</td>\n",
       "      <td>Turkish</td>\n",
       "      <td>0</td>\n",
       "    </tr>\n",
       "    <tr>\n",
       "      <th>5a0f4908a0</th>\n",
       "      <td>ریاست ہائے متحدہ امریکہ واپس آنے پر، ہج ایف بی...</td>\n",
       "      <td>ہیگ کی تفتیش ایف بی آئی اہلکاروں  کی طرف سے کی...</td>\n",
       "      <td>ur</td>\n",
       "      <td>Urdu</td>\n",
       "      <td>0</td>\n",
       "    </tr>\n",
       "    <tr>\n",
       "      <th>fdcd1bd867</th>\n",
       "      <td>From Cockpit Country to St. Ann's Bay</td>\n",
       "      <td>From St. Ann's Bay to Cockpit Country.</td>\n",
       "      <td>en</td>\n",
       "      <td>English</td>\n",
       "      <td>2</td>\n",
       "    </tr>\n",
       "    <tr>\n",
       "      <th>7cfb3d272c</th>\n",
       "      <td>Look, it's your skin, but you're going to be i...</td>\n",
       "      <td>The boss will fire you if he sees you slacking...</td>\n",
       "      <td>en</td>\n",
       "      <td>English</td>\n",
       "      <td>1</td>\n",
       "    </tr>\n",
       "    <tr>\n",
       "      <th>8c10229663</th>\n",
       "      <td>Через каждые сто градусов пятна краски меняют ...</td>\n",
       "      <td>Краска изменяется в соответствии с цветом.</td>\n",
       "      <td>ru</td>\n",
       "      <td>Russian</td>\n",
       "      <td>0</td>\n",
       "    </tr>\n",
       "  </tbody>\n",
       "</table>\n",
       "</div>"
      ],
      "text/plain": [
       "                                                      premise  \\\n",
       "id                                                              \n",
       "5130fd2cb5  and these comments were considered in formulat...   \n",
       "5b72532a0b  These are issues that we wrestle with in pract...   \n",
       "3931fbe82a  Des petites choses comme celles-là font une di...   \n",
       "5622f0c60b  you know they can't really defend themselves l...   \n",
       "86aaa48b45  ในการเล่นบทบาทสมมุติก็เช่นกัน โอกาสที่จะได้แสด...   \n",
       "ed7d6a1e62  Bir çiftlikte birisinin, ağıla kapatılmış bu ö...   \n",
       "5a0f4908a0  ریاست ہائے متحدہ امریکہ واپس آنے پر، ہج ایف بی...   \n",
       "fdcd1bd867              From Cockpit Country to St. Ann's Bay   \n",
       "7cfb3d272c  Look, it's your skin, but you're going to be i...   \n",
       "8c10229663  Через каждые сто градусов пятна краски меняют ...   \n",
       "\n",
       "                                                   hypothesis lang_abv  \\\n",
       "id                                                                       \n",
       "5130fd2cb5  The rules developed in the interim were put to...       en   \n",
       "5b72532a0b  Practice groups are not permitted to work on t...       en   \n",
       "3931fbe82a              J'essayais d'accomplir quelque chose.       fr   \n",
       "5622f0c60b  They can't defend themselves because of their ...       en   \n",
       "86aaa48b45    เด็กสามารถเห็นได้ว่าชาติพันธุ์แตกต่างกันอย่างไร       th   \n",
       "ed7d6a1e62    Çiftlikte insanlar farklı terimler kullanırlar.       tr   \n",
       "5a0f4908a0  ہیگ کی تفتیش ایف بی آئی اہلکاروں  کی طرف سے کی...       ur   \n",
       "fdcd1bd867             From St. Ann's Bay to Cockpit Country.       en   \n",
       "7cfb3d272c  The boss will fire you if he sees you slacking...       en   \n",
       "8c10229663         Краска изменяется в соответствии с цветом.       ru   \n",
       "\n",
       "           language  label  \n",
       "id                          \n",
       "5130fd2cb5  English      0  \n",
       "5b72532a0b  English      2  \n",
       "3931fbe82a   French      0  \n",
       "5622f0c60b  English      0  \n",
       "86aaa48b45     Thai      1  \n",
       "ed7d6a1e62  Turkish      0  \n",
       "5a0f4908a0     Urdu      0  \n",
       "fdcd1bd867  English      2  \n",
       "7cfb3d272c  English      1  \n",
       "8c10229663  Russian      0  "
      ]
     },
     "execution_count": 35,
     "metadata": {},
     "output_type": "execute_result"
    }
   ],
   "source": [
    "df = pd.read_csv('data/train.csv', index_col='id')\n",
    "comp_test = pd.read_csv('data/train.csv', index_col='id')\n",
    "\n",
    "df.head(10)"
   ]
  },
  {
   "cell_type": "code",
   "execution_count": 36,
   "metadata": {
    "execution": {
     "iopub.execute_input": "2022-04-11T05:18:46.549338Z",
     "iopub.status.busy": "2022-04-11T05:18:46.546858Z",
     "iopub.status.idle": "2022-04-11T05:18:46.615731Z",
     "shell.execute_reply": "2022-04-11T05:18:46.614074Z",
     "shell.execute_reply.started": "2022-04-11T05:18:46.549185Z"
    }
   },
   "outputs": [
    {
     "name": "stdout",
     "output_type": "stream",
     "text": [
      "<class 'pandas.core.frame.DataFrame'>\n",
      "Index: 12120 entries, 5130fd2cb5 to 44301dfb14\n",
      "Data columns (total 5 columns):\n",
      " #   Column      Non-Null Count  Dtype \n",
      "---  ------      --------------  ----- \n",
      " 0   premise     12120 non-null  object\n",
      " 1   hypothesis  12120 non-null  object\n",
      " 2   lang_abv    12120 non-null  object\n",
      " 3   language    12120 non-null  object\n",
      " 4   label       12120 non-null  int64 \n",
      "dtypes: int64(1), object(4)\n",
      "memory usage: 568.1+ KB\n"
     ]
    }
   ],
   "source": [
    "df.info()"
   ]
  },
  {
   "cell_type": "code",
   "execution_count": 37,
   "metadata": {
    "execution": {
     "iopub.execute_input": "2022-04-11T05:18:47.269158Z",
     "iopub.status.busy": "2022-04-11T05:18:47.267320Z",
     "iopub.status.idle": "2022-04-11T05:18:47.577008Z",
     "shell.execute_reply": "2022-04-11T05:18:47.576171Z",
     "shell.execute_reply.started": "2022-04-11T05:18:47.269047Z"
    }
   },
   "outputs": [
    {
     "data": {
      "image/png": "[encoded data removed]",
      "text/plain": [
       "<Figure size 432x288 with 1 Axes>"
      ]
     },
     "metadata": {
      "needs_background": "light"
     },
     "output_type": "display_data"
    }
   ],
   "source": [
    "df.groupby('language').count()['lang_abv'].plot.bar();"
   ]
  },
  {
   "cell_type": "code",
   "execution_count": 38,
   "metadata": {
    "execution": {
     "iopub.execute_input": "2022-04-11T05:18:48.277973Z",
     "iopub.status.busy": "2022-04-11T05:18:48.276998Z",
     "iopub.status.idle": "2022-04-11T05:18:48.331928Z",
     "shell.execute_reply": "2022-04-11T05:18:48.328875Z",
     "shell.execute_reply.started": "2022-04-11T05:18:48.277860Z"
    }
   },
   "outputs": [
    {
     "data": {
      "text/plain": [
       "language\n",
       "Arabic         401\n",
       "Bulgarian      342\n",
       "Chinese        411\n",
       "English       6870\n",
       "French         390\n",
       "German         351\n",
       "Greek          372\n",
       "Hindi          374\n",
       "Russian        376\n",
       "Spanish        366\n",
       "Swahili        385\n",
       "Thai           371\n",
       "Turkish        351\n",
       "Urdu           381\n",
       "Vietnamese     379\n",
       "Name: lang_abv, dtype: int64"
      ]
     },
     "execution_count": 38,
     "metadata": {},
     "output_type": "execute_result"
    }
   ],
   "source": [
    "df.groupby('language').count()['lang_abv']"
   ]
  },
  {
   "cell_type": "code",
   "execution_count": 39,
   "metadata": {
    "execution": {
     "iopub.execute_input": "2022-04-11T05:18:48.989402Z",
     "iopub.status.busy": "2022-04-11T05:18:48.988723Z",
     "iopub.status.idle": "2022-04-11T05:18:49.003682Z",
     "shell.execute_reply": "2022-04-11T05:18:49.001970Z",
     "shell.execute_reply.started": "2022-04-11T05:18:48.989326Z"
    }
   },
   "outputs": [
    {
     "data": {
      "text/plain": [
       "0    4176\n",
       "2    4064\n",
       "1    3880\n",
       "Name: label, dtype: int64"
      ]
     },
     "execution_count": 39,
     "metadata": {},
     "output_type": "execute_result"
    }
   ],
   "source": [
    "df['label'].value_counts()"
   ]
  },
  {
   "cell_type": "markdown",
   "metadata": {},
   "source": [
    "Luckily, because this data comes from Kaggle, it looks quite clean with no missing or malformed data. The vast majority of the datapoints are in English, with about 400 or less from each other language. Hopefully, we'll need only to stratify during the train/test split in order to account for this (the target labels are just about evenly distributed, so we needn't stratify along that column), but depending, we may choose to deal only with English data, at least at first."
   ]
  },
  {
   "cell_type": "markdown",
   "metadata": {},
   "source": [
    "# Train-Test Split"
   ]
  },
  {
   "cell_type": "code",
   "execution_count": 40,
   "metadata": {
    "execution": {
     "iopub.execute_input": "2022-04-11T05:19:39.337765Z",
     "iopub.status.busy": "2022-04-11T05:19:39.337325Z",
     "iopub.status.idle": "2022-04-11T05:19:39.371993Z",
     "shell.execute_reply": "2022-04-11T05:19:39.371091Z",
     "shell.execute_reply.started": "2022-04-11T05:19:39.337716Z"
    }
   },
   "outputs": [],
   "source": [
    "X_train, X_test, y_train, y_test = train_test_split(df.drop('label', axis=1), df['label'], test_size=.2, stratify=df['language'], random_state=random_state)"
   ]
  },
  {
   "cell_type": "code",
   "execution_count": 42,
   "metadata": {
    "execution": {
     "iopub.execute_input": "2022-04-11T05:19:49.554368Z",
     "iopub.status.busy": "2022-04-11T05:19:49.553938Z",
     "iopub.status.idle": "2022-04-11T05:19:49.578739Z",
     "shell.execute_reply": "2022-04-11T05:19:49.577792Z",
     "shell.execute_reply.started": "2022-04-11T05:19:49.554320Z"
    }
   },
   "outputs": [
    {
     "data": {
      "text/html": [
       "<div>\n",
       "<style scoped>\n",
       "    .dataframe tbody tr th:only-of-type {\n",
       "        vertical-align: middle;\n",
       "    }\n",
       "\n",
       "    .dataframe tbody tr th {\n",
       "        vertical-align: top;\n",
       "    }\n",
       "\n",
       "    .dataframe thead th {\n",
       "        text-align: right;\n",
       "    }\n",
       "</style>\n",
       "<table border=\"1\" class=\"dataframe\">\n",
       "  <thead>\n",
       "    <tr style=\"text-align: right;\">\n",
       "      <th></th>\n",
       "      <th>premise</th>\n",
       "      <th>hypothesis</th>\n",
       "      <th>lang_abv</th>\n",
       "      <th>language</th>\n",
       "    </tr>\n",
       "    <tr>\n",
       "      <th>id</th>\n",
       "      <th></th>\n",
       "      <th></th>\n",
       "      <th></th>\n",
       "      <th></th>\n",
       "    </tr>\n",
       "  </thead>\n",
       "  <tbody>\n",
       "    <tr>\n",
       "      <th>32050ed6ae</th>\n",
       "      <td>और यह  लगता है कि यह एक छोटे से हास्यास्पद दस ...</td>\n",
       "      <td>यह क्या पागलपन है जो यह कोर्ट का केस सालों साल...</td>\n",
       "      <td>hi</td>\n",
       "      <td>Hindi</td>\n",
       "    </tr>\n",
       "    <tr>\n",
       "      <th>d55efad854</th>\n",
       "      <td>'Wait here,' I was ordered.</td>\n",
       "      <td>He told me to wait until he opened the gate.</td>\n",
       "      <td>en</td>\n",
       "      <td>English</td>\n",
       "    </tr>\n",
       "    <tr>\n",
       "      <th>b09687d18f</th>\n",
       "      <td>Table 2: Examples of BLM's, FHWA's, IRS's, and...</td>\n",
       "      <td>BLM's, FHWA's, IRS's, and VBA's are the only c...</td>\n",
       "      <td>en</td>\n",
       "      <td>English</td>\n",
       "    </tr>\n",
       "    <tr>\n",
       "      <th>789ca56aec</th>\n",
       "      <td>Le site Web de MCI énonce la méthode prévue po...</td>\n",
       "      <td>Le site web du MCI a des consignes qui sont fa...</td>\n",
       "      <td>fr</td>\n",
       "      <td>French</td>\n",
       "    </tr>\n",
       "    <tr>\n",
       "      <th>b5b1303cc0</th>\n",
       "      <td>He celebrated the fact by announcing that the ...</td>\n",
       "      <td>The capital moved from Calcutta to a new city.</td>\n",
       "      <td>en</td>\n",
       "      <td>English</td>\n",
       "    </tr>\n",
       "  </tbody>\n",
       "</table>\n",
       "</div>"
      ],
      "text/plain": [
       "                                                      premise  \\\n",
       "id                                                              \n",
       "32050ed6ae  और यह  लगता है कि यह एक छोटे से हास्यास्पद दस ...   \n",
       "d55efad854                        'Wait here,' I was ordered.   \n",
       "b09687d18f  Table 2: Examples of BLM's, FHWA's, IRS's, and...   \n",
       "789ca56aec  Le site Web de MCI énonce la méthode prévue po...   \n",
       "b5b1303cc0  He celebrated the fact by announcing that the ...   \n",
       "\n",
       "                                                   hypothesis lang_abv  \\\n",
       "id                                                                       \n",
       "32050ed6ae  यह क्या पागलपन है जो यह कोर्ट का केस सालों साल...       hi   \n",
       "d55efad854       He told me to wait until he opened the gate.       en   \n",
       "b09687d18f  BLM's, FHWA's, IRS's, and VBA's are the only c...       en   \n",
       "789ca56aec  Le site web du MCI a des consignes qui sont fa...       fr   \n",
       "b5b1303cc0    The capital moved from Calcutta to a new city.        en   \n",
       "\n",
       "           language  \n",
       "id                   \n",
       "32050ed6ae    Hindi  \n",
       "d55efad854  English  \n",
       "b09687d18f  English  \n",
       "789ca56aec   French  \n",
       "b5b1303cc0  English  "
      ]
     },
     "execution_count": 42,
     "metadata": {},
     "output_type": "execute_result"
    }
   ],
   "source": [
    "X_train.head()"
   ]
  },
  {
   "cell_type": "code",
   "execution_count": 47,
   "metadata": {
    "execution": {
     "iopub.execute_input": "2022-04-11T05:20:27.477639Z",
     "iopub.status.busy": "2022-04-11T05:20:27.476092Z",
     "iopub.status.idle": "2022-04-11T05:20:27.503054Z",
     "shell.execute_reply": "2022-04-11T05:20:27.501615Z",
     "shell.execute_reply.started": "2022-04-11T05:20:27.477564Z"
    }
   },
   "outputs": [
    {
     "data": {
      "text/plain": [
       "id\n",
       "32050ed6ae    1\n",
       "d55efad854    1\n",
       "b09687d18f    1\n",
       "789ca56aec    1\n",
       "b5b1303cc0    0\n",
       "Name: label, dtype: int64"
      ]
     },
     "execution_count": 47,
     "metadata": {},
     "output_type": "execute_result"
    }
   ],
   "source": [
    "y_train.head()"
   ]
  },
  {
   "cell_type": "code",
   "execution_count": null,
   "metadata": {},
   "outputs": [],
   "source": []
  }
 ],
 "metadata": {
  "kernelspec": {
   "display_name": "Python (learn-env)",
   "language": "python",
   "name": "learn-env"
  },
  "language_info": {
   "codemirror_mode": {
    "name": "ipython",
    "version": 3
   },
   "file_extension": ".py",
   "mimetype": "text/x-python",
   "name": "python",
   "nbconvert_exporter": "python",
   "pygments_lexer": "ipython3",
   "version": "3.8.5"
  }
 },
 "nbformat": 4,
 "nbformat_minor": 4
}
